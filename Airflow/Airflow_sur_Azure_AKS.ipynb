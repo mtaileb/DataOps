{
 "cells": [
  {
   "cell_type": "markdown",
   "id": "58ef8386",
   "metadata": {},
   "source": [
    "Configurer et déployer Apache Airflow sur Azure Kubernetes Service (AKS)\n",
    "\n",
    "Ce notebook vous guide à travers la configuration et le déploiement d’Apache Airflow sur AKS à l’aide de Helm."
   ]
  },
  {
   "cell_type": "markdown",
   "id": "92bb7ddb",
   "metadata": {},
   "source": [
    "## 1. Configurer une identité de charge de travail"
   ]
  },
  {
   "cell_type": "code",
   "execution_count": null,
   "id": "3fd7bc5f",
   "metadata": {},
   "outputs": [],
   "source": [
    "%%bash\n",
    "kubectl create namespace ${AKS_AIRFLOW_NAMESPACE} --dry-run=client --output yaml | kubectl apply -f -"
   ]
  },
  {
   "cell_type": "code",
   "execution_count": null,
   "id": "e33e0468",
   "metadata": {},
   "outputs": [],
   "source": [
    "%%bash\n",
    "export TENANT_ID=$(az account show --query tenantId -o tsv)\n",
    "cat <<EOF | kubectl apply -f -\n",
    "apiVersion: v1\n",
    "kind: ServiceAccount\n",
    "metadata:\n",
    "  annotations:\n",
    "    azure.workload.identity/client-id: \"${MY_IDENTITY_NAME_CLIENT_ID}\"\n",
    "    azure.workload.identity/tenant-id: \"${TENANT_ID}\"\n",
    "  name: \"${SERVICE_ACCOUNT_NAME}\"\n",
    "  namespace: \"${AKS_AIRFLOW_NAMESPACE}\"\n",
    "EOF"
   ]
  },
  {
   "cell_type": "markdown",
   "id": "4be4c3a6",
   "metadata": {},
   "source": [
    "## 2. Installer External Secrets Operator"
   ]
  },
  {
   "cell_type": "code",
   "execution_count": null,
   "id": "a8a0748b",
   "metadata": {},
   "outputs": [],
   "source": [
    "%%bash\n",
    "helm repo add external-secrets https://charts.external-secrets.io\n",
    "helm repo update\n",
    "helm install external-secrets external-secrets/external-secrets   --namespace ${AKS_AIRFLOW_NAMESPACE}   --create-namespace   --set installCRDs=true   --wait"
   ]
  },
  {
   "cell_type": "markdown",
   "id": "22f03452",
   "metadata": {},
   "source": [
    "## 3. Créer des secrets"
   ]
  },
  {
   "cell_type": "code",
   "execution_count": null,
   "id": "63f73e0e",
   "metadata": {},
   "outputs": [],
   "source": [
    "%%bash\n",
    "kubectl apply -f - <<EOF\n",
    "apiVersion: external-secrets.io/v1\n",
    "kind: SecretStore\n",
    "metadata:\n",
    "  name: azure-store\n",
    "  namespace: ${AKS_AIRFLOW_NAMESPACE}\n",
    "spec:\n",
    "  provider:\n",
    "    azurekv:\n",
    "      authType: WorkloadIdentity\n",
    "      vaultUrl: \"${KEYVAULTURL}\"\n",
    "      serviceAccountRef:\n",
    "        name: ${SERVICE_ACCOUNT_NAME}\n",
    "EOF"
   ]
  },
  {
   "cell_type": "code",
   "execution_count": null,
   "id": "89feff71",
   "metadata": {},
   "outputs": [],
   "source": [
    "%%bash\n",
    "kubectl apply -f - <<EOF\n",
    "apiVersion: external-secrets.io/v1\n",
    "kind: ExternalSecret\n",
    "metadata:\n",
    "  name: airflow-aks-azure-logs-secrets\n",
    "  namespace: ${AKS_AIRFLOW_NAMESPACE}\n",
    "spec:\n",
    "  refreshInterval: 1h\n",
    "  secretStoreRef:\n",
    "    kind: SecretStore\n",
    "    name: azure-store\n",
    "  target:\n",
    "    name: ${AKS_AIRFLOW_LOGS_STORAGE_SECRET_NAME}\n",
    "    creationPolicy: Owner\n",
    "  data:\n",
    "    - secretKey: azurestorageaccountname\n",
    "      remoteRef:\n",
    "        key: AKS-AIRFLOW-LOGS-STORAGE-ACCOUNT-NAME\n",
    "    - secretKey: azurestorageaccountkey\n",
    "      remoteRef:\n",
    "        key: AKS-AIRFLOW-LOGS-STORAGE-ACCOUNT-KEY\n",
    "EOF"
   ]
  },
  {
   "cell_type": "markdown",
   "id": "81951296",
   "metadata": {},
   "source": [
    "## 4. Créer un volume persistant pour les journaux Airflow"
   ]
  },
  {
   "cell_type": "code",
   "execution_count": null,
   "id": "c87785ff",
   "metadata": {},
   "outputs": [],
   "source": [
    "%%bash\n",
    "kubectl apply -f - <<EOF\n",
    "apiVersion: v1\n",
    "kind: PersistentVolume\n",
    "metadata:\n",
    "  name: pv-airflow-logs\n",
    "spec:\n",
    "  capacity:\n",
    "    storage: 5Gi\n",
    "  accessModes:\n",
    "  - ReadWriteMany\n",
    "  storageClassName: azureblob-fuse-premium\n",
    "  csi:\n",
    "    driver: blob.csi.azure.com\n",
    "    volumeHandle: airflow-logs-1\n",
    "    volumeAttributes:\n",
    "      resourceGroup: ${MY_RESOURCE_GROUP_NAME}\n",
    "      storageAccount: ${AKS_AIRFLOW_LOGS_STORAGE_ACCOUNT_NAME}\n",
    "      containerName: ${AKS_AIRFLOW_LOGS_STORAGE_CONTAINER_NAME}\n",
    "    nodeStageSecretRef:\n",
    "      name: ${AKS_AIRFLOW_LOGS_STORAGE_SECRET_NAME}\n",
    "      namespace: ${AKS_AIRFLOW_NAMESPACE}\n",
    "EOF"
   ]
  },
  {
   "cell_type": "markdown",
   "id": "6aab2074",
   "metadata": {},
   "source": [
    "## 5. Déployer Apache Airflow avec Helm"
   ]
  },
  {
   "cell_type": "code",
   "execution_count": null,
   "id": "6ce30dba",
   "metadata": {},
   "outputs": [],
   "source": [
    "%%bash\n",
    "cat <<EOF > airflow_values.yaml\n",
    "executor: \"KubernetesExecutor\"\n",
    "postgresql:\n",
    "  enabled: true\n",
    "logs:\n",
    "  persistence:\n",
    "    enabled: true\n",
    "    existingClaim: pvc-airflow-logs\n",
    "EOF\n",
    "\n",
    "helm repo add apache-airflow https://airflow.apache.org\n",
    "helm repo update\n",
    "helm install airflow apache-airflow/airflow --namespace airflow --create-namespace -f airflow_values.yaml --debug"
   ]
  },
  {
   "cell_type": "markdown",
   "id": "2dc61847",
   "metadata": {},
   "source": [
    "## 6. Vérifier le déploiement et accéder à Airflow"
   ]
  },
  {
   "cell_type": "code",
   "execution_count": null,
   "id": "338b1d66",
   "metadata": {},
   "outputs": [],
   "source": [
    "%%bash\n",
    "kubectl get pods -n airflow"
   ]
  },
  {
   "cell_type": "code",
   "execution_count": null,
   "id": "c1cb3497",
   "metadata": {},
   "outputs": [],
   "source": [
    "%%bash\n",
    "kubectl port-forward svc/airflow-webserver 8080:8080 -n airflow"
   ]
  },
  {
   "cell_type": "markdown",
   "id": "99c2bac6",
   "metadata": {},
   "source": [
    "## 7. Bonnes pratiques pour la production\n",
    "- Utilisez une base de données managée (Azure PostgreSQL)\n",
    "- Activez la surveillance (Prometheus, Grafana)\n",
    "- Sécurisez les identités via Microsoft Entra Workload ID\n",
    "- Gérez vos DAGs avec Git et CI/CD"
   ]
  }
 ],
 "metadata": {},
 "nbformat": 4,
 "nbformat_minor": 5
}
