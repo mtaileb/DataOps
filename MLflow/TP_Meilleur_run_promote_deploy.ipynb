{
  "nbformat": 4,
  "nbformat_minor": 0,
  "metadata": {
    "colab": {
      "provenance": []
    },
    "kernelspec": {
      "name": "python3",
      "display_name": "Python 3"
    },
    "language_info": {
      "name": "python"
    }
  },
  "cells": [
    {
      "cell_type": "code",
      "source": [
        "# Code obsolète, juste pour démo\n",
        "\n",
        "!pip install -q mlflow\n",
        "!pip install -q loguru"
      ],
      "metadata": {
        "colab": {
          "base_uri": "https://localhost:8080/"
        },
        "id": "0M0oDxaJO26V",
        "outputId": "7d8b8c07-0089-4874-81f8-c4cea1177398"
      },
      "execution_count": 3,
      "outputs": [
        {
          "output_type": "stream",
          "name": "stdout",
          "text": [
            "\u001b[?25l   \u001b[90m━━━━━━━━━━━━━━━━━━━━━━━━━━━━━━━━━━━━━━━━\u001b[0m \u001b[32m0.0/62.5 kB\u001b[0m \u001b[31m?\u001b[0m eta \u001b[36m-:--:--\u001b[0m\r\u001b[2K   \u001b[90m━━━━━━━━━━━━━━━━━━━━━━━━━━━━━━━━━━━━━━━━\u001b[0m \u001b[32m62.5/62.5 kB\u001b[0m \u001b[31m3.8 MB/s\u001b[0m eta \u001b[36m0:00:00\u001b[0m\n",
            "\u001b[?25h"
          ]
        }
      ]
    },
    {
      "cell_type": "code",
      "execution_count": 15,
      "metadata": {
        "id": "VMTuwIHbOjXO"
      },
      "outputs": [],
      "source": [
        "import os\n",
        "from loguru import logger\n",
        "import mlflow\n",
        "from mlflow import MlflowClient\n",
        "from mlflow.entities.model_registry.model_version import ModelVersion\n",
        "from typing import List\n",
        "\n",
        "\n",
        "MLFLOW_TRACKING_URI = os.getenv(\"MLFLOW_TRACKING_URI\")\n",
        "MLFLOW_EXPERIMENT = \"Mon experience MLflow\"\n",
        "MLFLOW_MODEL_NAME = \"regression_model\"\n",
        "\n",
        "CHAMPION_MODEL_ALIAS = \"champion\"\n",
        "\n",
        "class ModelManager:\n",
        "    \"\"\"Model Manager for AUTOMATIC   Deployment\"\"\"\n",
        "\n",
        "    def __init__(\n",
        "        self,\n",
        "        mlflow_tracking_uri: str,\n",
        "        mlflow_experiment_name: str,\n",
        "        mlflow_model_name: str,\n",
        "    ):\n",
        "        self.mlflow_tracking_uri = mlflow_tracking_uri\n",
        "        self.mlflow_experiment_name = mlflow_experiment_name\n",
        "        self.mlflow_model_name = mlflow_model_name\n",
        "        self.client = MlflowClient()\n",
        "\n",
        "    def search_best_model(\n",
        "        self, experiment_names: List[str] = [], metric_name: str = \"r2\"\n",
        "    ) -> str:\n",
        "        \"\"\"Search Best Run ID of given experiments\"\"\"\n",
        "        logger.info(\"Searching best model...\")\n",
        "        runs_ = mlflow.search_runs(experiment_names=experiment_names)\n",
        "        best_run = runs_.loc[runs_[f\"metrics.{metric_name}\"].idxmax()]\n",
        "\n",
        "        return best_run[\"run_id\"], f\"{best_run['artifact_uri']}/model\"\n",
        "\n",
        "    def promote_model(self, run_id: str, artifact_uri: str, model_name: str) -> ModelVersion:\n",
        "        \"\"\"Promote a model to a new alias\"\"\"\n",
        "        return mlflow.register_model(\n",
        "            model_uri=f\"runs:/{run_id}/{artifact_uri}\", name=model_name\n",
        "        )\n",
        "\n",
        "    def run_deploy(\n",
        "        self,\n",
        "        run_id: str,\n",
        "        artifact_uri: str,\n",
        "        model_name: str,\n",
        "    ) -> None:\n",
        "        \"\"\"Deploy a model to a new alias\"\"\"\n",
        "        _new_model = self.promote_model(run_id, artifact_uri, model_name)\n",
        "        print(_new_model)\n",
        "        if _new_model.version == \"1\":\n",
        "            logger.info(\"First model version, setting as champion model.\")\n",
        "            self.client.set_registered_model_alias(\n",
        "                MLFLOW_MODEL_NAME, CHAMPION_MODEL_ALIAS, _new_model.version\n",
        "            )\n",
        "        else:\n",
        "            logger.info(\n",
        "                f\"New model version: v{_new_model.version}, Verifying if the model is different from current champion.\"\n",
        "            )\n",
        "            champ_model = self.client.get_model_version_by_alias(\n",
        "                MLFLOW_MODEL_NAME, CHAMPION_MODEL_ALIAS\n",
        "            )\n",
        "            if best_run_id == champ_model.run_id:\n",
        "                logger.info(\n",
        "                    \"Best model found is already champion model, no need to update. Exiting.\"\n",
        "                )\n",
        "            else:\n",
        "                logger.info(\n",
        "                    \"\"\"Best model is not champion model, Promoting new model.\n",
        "                    \"\"\"\n",
        "                )\n",
        "                self.client.set_registered_model_alias(\n",
        "                    MLFLOW_MODEL_NAME, CHAMPION_MODEL_ALIAS, _new_model.version\n",
        "                )\n",
        "\n",
        "if __name__ == \"__main__\":\n",
        "    logger.info(\"Starting Automatic Model Deployment...\")\n",
        "    mlflow.set_tracking_uri(\n",
        "            uri=MLFLOW_TRACKING_URI,\n",
        "        )\n",
        "    mlflow.set_experiment(experiment_name=MLFLOW_MODEL_NAME)\n",
        "    manager = ModelManager(\n",
        "        mlflow_tracking_uri=MLFLOW_TRACKING_URI,\n",
        "        mlflow_experiment_name=MLFLOW_EXPERIMENT,\n",
        "        mlflow_model_name=MLFLOW_MODEL_NAME,\n",
        "    )\n",
        "\n",
        "    best_run_id, best_run_art_uri = manager.search_best_model(\n",
        "        experiment_names=[MLFLOW_EXPERIMENT]\n",
        "    )\n",
        "\n",
        "    manager.run_deploy(\n",
        "        run_id=best_run_id,\n",
        "        artifact_uri=best_run_art_uri,\n",
        "        model_name=MLFLOW_MODEL_NAME,\n",
        "    )\n",
        "\n",
        "    logger.info(\"Automatic Deployment applied successfully.\")"
      ]
    },
    {
      "cell_type": "code",
      "source": [],
      "metadata": {
        "id": "xPmUGIu7XOkk"
      },
      "execution_count": null,
      "outputs": []
    }
  ]
}
